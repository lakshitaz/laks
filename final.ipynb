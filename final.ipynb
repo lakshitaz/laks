{
 "cells": [
  {
   "cell_type": "code",
   "execution_count": 6,
   "id": "13e8c027-1a4f-478f-a1f7-d911ee5496cf",
   "metadata": {},
   "outputs": [
    {
     "name": "stdout",
     "output_type": "stream",
     "text": [
      "ROC AUC for xyz_vaccine: 0.8436845830714582\n",
      "ROC AUC for seasonal_vaccine: 0.8713475853586634\n",
      "Mean ROC AUC: 0.8575160842150609\n"
     ]
    }
   ],
   "source": [
    "import pandas as pd\n",
    "import numpy as np\n",
    "from sklearn.model_selection import GridSearchCV\n",
    "from sklearn.preprocessing import StandardScaler, OneHotEncoder\n",
    "from sklearn.compose import ColumnTransformer\n",
    "from sklearn.pipeline import Pipeline\n",
    "from sklearn.impute import SimpleImputer\n",
    "from sklearn.ensemble import RandomForestClassifier\n",
    "from sklearn.multioutput import MultiOutputClassifier\n",
    "from sklearn.metrics import roc_auc_score\n",
    "\n",
    "train_features_path = 'train.csv'\n",
    "train_labels_path = 'training_set_labels.csv'\n",
    "test_features_path = 'test.csv'\n",
    "\n",
    "train_features = pd.read_csv(train_features_path)\n",
    "train_labels = pd.read_csv(train_labels_path)\n",
    "test_features = pd.read_csv(test_features_path)\n",
    "\n",
    "categorical_features = ['age_group', 'education', 'race', 'sex', 'income_poverty', \n",
    "                        'marital_status', 'rent_or_own', 'employment_status', \n",
    "                        'hhs_geo_region', 'census_msa', 'employment_industry', \n",
    "                        'employment_occupation']\n",
    "numerical_features = ['xyz_concern', 'xyz_knowledge', 'opinion_xyz_vacc_effective', \n",
    "                      'opinion_xyz_risk', 'opinion_xyz_sick_from_vacc', \n",
    "                      'opinion_seas_vacc_effective', 'opinion_seas_risk', \n",
    "                      'opinion_seas_sick_from_vacc', 'household_adults', \n",
    "                      'household_children']\n",
    "\n",
    "numerical_transformer = Pipeline(steps=[\n",
    "    ('imputer', SimpleImputer(strategy='mean')),\n",
    "    ('scaler', StandardScaler())\n",
    "])\n",
    "\n",
    "categorical_transformer = Pipeline(steps=[\n",
    "    ('imputer', SimpleImputer(strategy='constant', fill_value='missing')),\n",
    "    ('onehot', OneHotEncoder(handle_unknown='ignore'))\n",
    "])\n",
    "\n",
    "preprocessor = ColumnTransformer(\n",
    "    transformers=[\n",
    "        ('num', numerical_transformer, numerical_features),\n",
    "        ('cat', categorical_transformer, categorical_features)\n",
    "    ])\n",
    "\n",
    "X_train = train_features.drop(columns=['respondent_id'])\n",
    "y_train = train_labels[['xyz_vaccine', 'seasonal_vaccine']]\n",
    "\n",
    "X_test = test_features.drop(columns=['respondent_id'])\n",
    "\n",
    "model = RandomForestClassifier(random_state=42)\n",
    "\n",
    "clf = Pipeline(steps=[('preprocessor', preprocessor),\n",
    "                      ('classifier', MultiOutputClassifier(model, n_jobs=-1))])\n",
    "\n",
    "param_grid = {\n",
    "    'classifier__estimator__n_estimators': [100, 200],\n",
    "    'classifier__estimator__max_depth': [None, 10, 20]\n",
    "}\n",
    "\n",
    "grid_search = GridSearchCV(clf, param_grid, cv=5, scoring='roc_auc', n_jobs=-1)\n",
    "grid_search.fit(X_train, y_train)\n",
    "\n",
    "best_model = grid_search.best_estimator_\n",
    "\n",
    "y_pred_prob = best_model.predict_proba(X_test)\n",
    "y_pred_prob = np.column_stack([prob[:, 1] for prob in y_pred_prob])\n",
    "\n",
    "roc_auc_xyz = roc_auc_score(y_train['xyz_vaccine'], best_model.predict_proba(X_train)[0][:, 1])\n",
    "roc_auc_seasonal = roc_auc_score(y_train['seasonal_vaccine'], best_model.predict_proba(X_train)[1][:, 1])\n",
    "mean_roc_auc = np.mean([roc_auc_xyz, roc_auc_seasonal])\n",
    "\n",
    "print(f'ROC AUC for xyz_vaccine: {roc_auc_xyz}')\n",
    "print(f'ROC AUC for seasonal_vaccine: {roc_auc_seasonal}')\n",
    "print(f'Mean ROC AUC: {mean_roc_auc}')\n",
    "\n",
    "submission = pd.DataFrame({\n",
    "    'respondent_id': test_features['respondent_id'],\n",
    "    'xyz_vaccine': y_pred_prob[:, 0],\n",
    "    'seasonal_vaccine': y_pred_prob[:, 1]\n",
    "})\n",
    "\n",
    "submission.to_csv('submission.csv', index=False)\n"
   ]
  },
  {
   "cell_type": "code",
   "execution_count": null,
   "id": "96f76fa2-9921-4a3c-ae7d-deb1c46611cb",
   "metadata": {},
   "outputs": [],
   "source": []
  },
  {
   "cell_type": "code",
   "execution_count": null,
   "id": "86181de3-1a1f-4014-ba68-e732d6c36cd9",
   "metadata": {},
   "outputs": [],
   "source": []
  },
  {
   "cell_type": "code",
   "execution_count": null,
   "id": "988042f7-c760-43ab-8a5c-5556948aacd5",
   "metadata": {},
   "outputs": [],
   "source": []
  },
  {
   "cell_type": "code",
   "execution_count": null,
   "id": "a1aaf6c9-4832-4143-b7ca-a5ba8145bc40",
   "metadata": {},
   "outputs": [],
   "source": []
  }
 ],
 "metadata": {
  "kernelspec": {
   "display_name": "Python 3 (ipykernel)",
   "language": "python",
   "name": "python3"
  },
  "language_info": {
   "codemirror_mode": {
    "name": "ipython",
    "version": 3
   },
   "file_extension": ".py",
   "mimetype": "text/x-python",
   "name": "python",
   "nbconvert_exporter": "python",
   "pygments_lexer": "ipython3",
   "version": "3.11.7"
  }
 },
 "nbformat": 4,
 "nbformat_minor": 5
}
